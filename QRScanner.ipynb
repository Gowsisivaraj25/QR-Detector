{
  "nbformat": 4,
  "nbformat_minor": 0,
  "metadata": {
    "colab": {
      "provenance": []
    },
    "kernelspec": {
      "name": "python3",
      "display_name": "Python 3"
    },
    "language_info": {
      "name": "python"
    }
  },
  "cells": [
    {
      "cell_type": "code",
      "execution_count": 1,
      "metadata": {
        "colab": {
          "base_uri": "https://localhost:8080/"
        },
        "id": "u1A8alcqqp92",
        "outputId": "984e486d-0208-4032-ed6f-1f38c6512974"
      },
      "outputs": [
        {
          "output_type": "stream",
          "name": "stdout",
          "text": [
            "Enter the path to your image: /content/images.png\n",
            "Decoded Data: http://en.m.wikipedia.org\n"
          ]
        }
      ],
      "source": [
        "import cv2\n",
        "\n",
        "def process_qr_code(image_path):\n",
        "  \"\"\"Processes a QR code from the given image path.\n",
        "\n",
        "  Args:\n",
        "      image_path (str): Path to the image file.\n",
        "\n",
        "  Returns:\n",
        "      str: Decoded data from the QR code or None if not found.\n",
        "  \"\"\"\n",
        "  try:\n",
        "    # Read the image\n",
        "    img = cv2.imread(image_path)\n",
        "    if img is None:\n",
        "      print(f\"Error: Could not read image from '{image_path}'.\")\n",
        "      return None\n",
        "\n",
        "    # Convert to grayscale\n",
        "    gray = cv2.cvtColor(img, cv2.COLOR_BGR2GRAY)\n",
        "\n",
        "    # Detect and decode QR code\n",
        "    qr_decoder = cv2.QRCodeDetector()\n",
        "    _, decoded_info, _, _ = qr_decoder.detectAndDecodeMulti(gray)\n",
        "    return decoded_info[0] if decoded_info else None  # Return first decoded info if any\n",
        "  except Exception as e:\n",
        "    print(f\"Error processing QR code: {e}\")\n",
        "    return None\n",
        "\n",
        "# Get user input for image path\n",
        "image_path = input(\"Enter the path to your image: \")\n",
        "\n",
        "# Process the QR code\n",
        "decoded_data = process_qr_code(image_path)\n",
        "\n",
        "# Display the decoded data (if any)\n",
        "if decoded_data:\n",
        "  print(\"Decoded Data:\", decoded_data)\n",
        "else:\n",
        "  print(\"No QR code found in the image.\")\n"
      ]
    },
    {
      "cell_type": "code",
      "source": [],
      "metadata": {
        "id": "NbVJ4Jvbq7X3"
      },
      "execution_count": null,
      "outputs": []
    }
  ]
}